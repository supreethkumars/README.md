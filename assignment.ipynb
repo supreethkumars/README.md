{
  "nbformat": 4,
  "nbformat_minor": 0,
  "metadata": {
    "colab": {
      "provenance": [],
      "authorship_tag": "ABX9TyOptql9QI6aqfdioGad+J3R",
      "include_colab_link": true
    },
    "kernelspec": {
      "name": "python3",
      "display_name": "Python 3"
    },
    "language_info": {
      "name": "python"
    }
  },
  "cells": [
    {
      "cell_type": "markdown",
      "metadata": {
        "id": "view-in-github",
        "colab_type": "text"
      },
      "source": [
        "<a href=\"https://colab.research.google.com/github/supreethkumars/README.md/blob/main/assignment.ipynb\" target=\"_parent\"><img src=\"https://colab.research.google.com/assets/colab-badge.svg\" alt=\"Open In Colab\"/></a>"
      ]
    },
    {
      "cell_type": "code",
      "source": [
        "def factorial(n):\n",
        " if n==1:\n",
        "  return 1\n",
        " else:\n",
        "  return n*(factorial(n-1))\n",
        "result=factorial(5)\n",
        "print(result)"
      ],
      "metadata": {
        "colab": {
          "base_uri": "https://localhost:8080/"
        },
        "id": "IhogTZtB-BHN",
        "outputId": "0f036f37-0613-4a16-bd72-c409c87b8e7c"
      },
      "execution_count": null,
      "outputs": [
        {
          "output_type": "stream",
          "name": "stdout",
          "text": [
            "120\n"
          ]
        }
      ]
    },
    {
      "cell_type": "code",
      "source": [
        "#TASK 2"
      ],
      "metadata": {
        "id": "CCy7e1AjBDK1"
      },
      "execution_count": null,
      "outputs": []
    },
    {
      "cell_type": "code",
      "source": [
        "import math\n",
        "num=int(input('enter a number:'))\n",
        "print('square root:',math.sqrt(num))\n",
        "print('natural logarithum:',math.log(num))\n",
        "print('sin:',math.sin(num))"
      ],
      "metadata": {
        "id": "r8Bz9x__BHTz",
        "colab": {
          "base_uri": "https://localhost:8080/"
        },
        "outputId": "a33adc73-dcb1-48a6-f589-41956dc5a84c"
      },
      "execution_count": 2,
      "outputs": [
        {
          "output_type": "stream",
          "name": "stdout",
          "text": [
            "enter a number:20\n",
            "square root: 4.47213595499958\n",
            "natural logarithum: 2.995732273553991\n",
            "sin: 0.9129452507276277\n"
          ]
        }
      ]
    }
  ]
}