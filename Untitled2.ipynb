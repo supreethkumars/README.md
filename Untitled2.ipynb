{
  "nbformat": 4,
  "nbformat_minor": 0,
  "metadata": {
    "colab": {
      "provenance": [],
      "authorship_tag": "ABX9TyPZ6CKQwYRUtHGJ1ruLHABB",
      "include_colab_link": true
    },
    "kernelspec": {
      "name": "python3",
      "display_name": "Python 3"
    },
    "language_info": {
      "name": "python"
    }
  },
  "cells": [
    {
      "cell_type": "markdown",
      "metadata": {
        "id": "view-in-github",
        "colab_type": "text"
      },
      "source": [
        "<a href=\"https://colab.research.google.com/github/supreethkumars/README.md/blob/main/Untitled2.ipynb\" target=\"_parent\"><img src=\"https://colab.research.google.com/assets/colab-badge.svg\" alt=\"Open In Colab\"/></a>"
      ]
    },
    {
      "cell_type": "code",
      "execution_count": 1,
      "metadata": {
        "colab": {
          "base_uri": "https://localhost:8080/"
        },
        "id": "Ly61DTvkPJr8",
        "outputId": "c67465b4-22b0-4016-ab89-d93d6fca09ac"
      },
      "outputs": [
        {
          "output_type": "stream",
          "name": "stdout",
          "text": [
            "enter the first no:41\n",
            "enter the second no:25\n",
            "addition: 66\n",
            "subtraction: 16\n",
            "multiplication: 1025\n",
            "division: 1.64\n"
          ]
        }
      ],
      "source": [
        "a=int(input('enter the first no:'))\n",
        "b=int(input('enter the second no:'))\n",
        "addition=(a+b)\n",
        "subtraction=(a-b)\n",
        "multiplication=(a*b)\n",
        "division=(a/b)\n",
        "print('addition:',addition)\n",
        "print('subtraction:',subtraction)\n",
        "print('multiplication:',multiplication)\n",
        "print('division:',division)"
      ]
    },
    {
      "cell_type": "markdown",
      "source": [],
      "metadata": {
        "id": "FJQtPNgXPwjf"
      }
    },
    {
      "cell_type": "code",
      "source": [
        "# TASK 2"
      ],
      "metadata": {
        "id": "vh0iZ3FxQGVA"
      },
      "execution_count": null,
      "outputs": []
    },
    {
      "cell_type": "code",
      "source": [
        "first_name=input('enter the first name:')\n",
        "second_name=input('enter the second name:')\n",
        "full_name=first_name+second_name\n",
        "print ('hello,', full_name, 'welcome to birthday party')"
      ],
      "metadata": {
        "colab": {
          "base_uri": "https://localhost:8080/"
        },
        "id": "HoHC-LaBR5IN",
        "outputId": "4599e029-aac3-48bb-cb34-c8f2527b63ed"
      },
      "execution_count": 6,
      "outputs": [
        {
          "output_type": "stream",
          "name": "stdout",
          "text": [
            "enter the first name:supreeth\n",
            "enter the second name:kumar\n",
            "hello, supreethkumar welcome to birthday party\n"
          ]
        }
      ]
    }
  ]
}