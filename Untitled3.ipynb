{
  "nbformat": 4,
  "nbformat_minor": 0,
  "metadata": {
    "colab": {
      "provenance": [],
      "authorship_tag": "ABX9TyOliyO+2PkOaYNJonMA7NP+",
      "include_colab_link": true
    },
    "kernelspec": {
      "name": "python3",
      "display_name": "Python 3"
    },
    "language_info": {
      "name": "python"
    }
  },
  "cells": [
    {
      "cell_type": "markdown",
      "metadata": {
        "id": "view-in-github",
        "colab_type": "text"
      },
      "source": [
        "<a href=\"https://colab.research.google.com/github/supreethkumars/README.md/blob/main/Untitled3.ipynb\" target=\"_parent\"><img src=\"https://colab.research.google.com/assets/colab-badge.svg\" alt=\"Open In Colab\"/></a>"
      ]
    },
    {
      "cell_type": "code",
      "execution_count": null,
      "metadata": {
        "id": "Afd46cHpFte7"
      },
      "outputs": [],
      "source": [
        "#task 2\n"
      ]
    },
    {
      "cell_type": "code",
      "source": [
        "file=open('my_file.txt','w')\n",
        "writing_file=file.write('hello,Python!')\n",
        "print(writing_file)\n",
        "file.close()\n",
        "\n",
        "file=open('my_file.txt','r')\n",
        "reading_file=file.read()\n",
        "print(reading_file)\n",
        "file.close()\n",
        "\n",
        "file=open('my_file.txt','a')\n",
        "append_file=file.write('learning file handling in python')\n",
        "print(append_file)\n",
        "file.close()\n",
        "\n",
        "file=open('my_file.txt','r')\n",
        "reading_file=file.read()\n",
        "print(reading_file)\n",
        "file.close()\n",
        "\n",
        "\n",
        "\n",
        "\n",
        "\n"
      ],
      "metadata": {
        "colab": {
          "base_uri": "https://localhost:8080/"
        },
        "id": "UXHVXoaRHDze",
        "outputId": "1d1ff819-159e-4611-90cc-bef7e0c772f6"
      },
      "execution_count": 14,
      "outputs": [
        {
          "output_type": "stream",
          "name": "stdout",
          "text": [
            "13\n",
            "hello,Python!\n",
            "32\n",
            "hello,Python!learning file handling in python\n"
          ]
        }
      ]
    },
    {
      "cell_type": "code",
      "source": [
        "#task 1\n",
        "i did not understand the question pls help me to solve"
      ],
      "metadata": {
        "id": "WgX7YBSJL4fI"
      },
      "execution_count": 18,
      "outputs": []
    }
  ]
}